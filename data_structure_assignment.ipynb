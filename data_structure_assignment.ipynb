{
  "nbformat": 4,
  "nbformat_minor": 0,
  "metadata": {
    "colab": {
      "provenance": []
    },
    "kernelspec": {
      "name": "python3",
      "display_name": "Python 3"
    },
    "language_info": {
      "name": "python"
    }
  },
  "cells": [
    {
      "cell_type": "code",
      "execution_count": null,
      "metadata": {
        "id": "d-MBc01pKJFK"
      },
      "outputs": [],
      "source": []
    },
    {
      "cell_type": "markdown",
      "source": [
        "**ANSWER SHEET**"
      ],
      "metadata": {
        "id": "Lmu36DPo9fql"
      }
    },
    {
      "cell_type": "markdown",
      "source": [
        "1. WHAT ARE DATA STRUCTURES AND WHY ARE THEY IMPORTANT?\n",
        "\n",
        "ANS - DATA STRUCTURESB ARE WAYS OF ORGANISING, MANAGING AND STORING DATA SO THAT IT CAN BE ACCESSED AND USED EFFICIENTLY. THESE ARE I8MPORTANT BECAUSE THEY HELP IN MANAGING LARGE DATA SETS, ENABLING FASTER ACCESS, MODIFICATION, AND DELETION OF DATA, AND IMPROVING THE EFFICIENCY OF ALGORITHMS."
      ],
      "metadata": {
        "id": "NzX_n_NsKKYo"
      }
    },
    {
      "cell_type": "markdown",
      "source": [
        "2. EXPLAIN THE DIFFERENCE BETWEEN MUTABLE AND IMMUTABLE DATA TYPES WITH EXAMPLES.\n",
        "\n",
        "ANS - A MUTABLE DATA TYPE IS ONE WHERE THE VALUE OR CONTENT OF THE OBJECT CAN BE CHANGED AFTER IT IS CREATED. EXAMPLE - LIST , SET, DICTIONARY\n",
        "\n",
        "A IMMUTABLE DATA TYPE IS ONE WHERE THE VALUE OR CONTENT OF THE OBJECT CAN NOT BE CHANGED AFTER IT IS CREATED. EXAMPLE - TUPPLE , STRING, ETC."
      ],
      "metadata": {
        "id": "0K-cK1iqLC_d"
      }
    },
    {
      "cell_type": "markdown",
      "source": [
        "3. WHAT ARE THE MAIN DIFFERENCES BETWEEN LISTS AND TUPPLES IN PYTHON?\n",
        "\n",
        "ANS - LISTS RE MUTABLE AND TUPPLES ARE IMMUTABLE DATA TYPE\n",
        "WE CAN ADD, REMOVE, REPLACE ELEMENTS OF A LIST BUT IT IS NOT TRUE IN CASE OF TUPPLE.\n",
        "LIST USE SQUARE BRACKET BUT TUPPLES USE PARANTHESES\n",
        "\n"
      ],
      "metadata": {
        "id": "CKQ2m9JdMI9Q"
      }
    },
    {
      "cell_type": "markdown",
      "source": [
        "4. DESCRIBE HOW DICTIONARIES STORE DATA.\n",
        "\n",
        "ANS - DICTIONARIES LOOK KIND OF SET BUT HERE THE DATA HERE SAVES A S KEY AND VALUE PAIR. WE CAN ACCESS THE VALUE USING KEY IN A DICTIONARY."
      ],
      "metadata": {
        "id": "P6WAowDZl-q8"
      }
    },
    {
      "cell_type": "markdown",
      "source": [
        "5. WHY MIGHT YOU USE A SET INSTEAD OF A LIST IN PYTHON?\n",
        "\n",
        "ANS - LISTS ALLOW DUPLICATES, MEANING THE SAME ELEMENT CAN APPEAR MULTIPLE TIMES. SET AUTOMATICALLY ELIMINATES DUPLICATES AND SAVES AS UNIQUE VALUE"
      ],
      "metadata": {
        "id": "T1TQninym1_e"
      }
    },
    {
      "cell_type": "markdown",
      "source": [
        "6. WHAT IS A STRING IN PYTHON, AND HOW IS IT DIFFERENT FROM A LIST?\n",
        "\n",
        "ANS - IN PYTHON STRING IS A SEQUENCE OF CHARACTERS ENCLOSED WITHIN SINGLE QUOTES OR DOUBLE QUOTES AND USED TO REPRESENT TEXTUAL DATA. STRINGS ARE IMMUTABLE WHERE LISTS ARE MUTABLE."
      ],
      "metadata": {
        "id": "anmgYrhcnolK"
      }
    },
    {
      "cell_type": "markdown",
      "source": [
        "7. HOW DO TUPLES ENSURE DATA INTEGRITY IN PYTHON?\n",
        "\n",
        "ANS - TUPLES ENSURE DATA INTEGRITY AS THEY ARE IMMUTABLE IN NATURE."
      ],
      "metadata": {
        "id": "JnzuFqTpobiN"
      }
    },
    {
      "cell_type": "markdown",
      "source": [
        "8. WHAT IS A HASH TABLE, AND HOW DOES IT RELATE TO DICTIONARIES IN PYTHON?\n",
        "\n",
        "ANS - A HASH TABLE IS A DATA STRUCTURE THAT STORES DATA IN KEY-VALUE PAIRS, WHERE EACH KEY IS HASHED USING A HASH FUNCTION, AND THE CORRESPONDING VALUE IS STORED AT THAT INDEX IN AN ARRAY OR LIST. PYTHON DICTIONARIES ARE IMPLEMENTED USING A HASH TABLE."
      ],
      "metadata": {
        "id": "lQESH8ono6lT"
      }
    },
    {
      "cell_type": "markdown",
      "source": [
        "9. CAN LISTS CONTAIN DIFFERENT DATA TYPES IN PYTHON?\n",
        "\n",
        "ANS - YES, LISTS CAN CONTAIN DIFFERENT DATA TYPES IN PYTHON."
      ],
      "metadata": {
        "id": "vQqqPudpqFf0"
      }
    },
    {
      "cell_type": "markdown",
      "source": [
        "10. EXPLAIN WHY STRINGS ARE IMMUTABLE IN PYTHON.\n",
        "\n",
        "ANS - IN PYTHON, STRINGS ARE IMMUTABLE, MEANING ONCE A STRING IS CREATED, ITA CANNOT BE MODIFIED. THIS IMMUTABILITY IS A KEY FEATURE OF STRINGS IN PYTHON."
      ],
      "metadata": {
        "id": "pLvlUEYdtXea"
      }
    },
    {
      "cell_type": "markdown",
      "source": [
        "11. WHAT ADVANTAGES DO DICTIONARIES OFFER OVER LISTS FOR CERTAIN TASKS?\n",
        "\n",
        "ANS - DICTIONARIES OFFER SIGNIFICANT ADVANTAGES OVER LISTS FOR CERTAIN TASKS, PRIMARILY BECAUSE OF THEIR KEY-VALUE PAIR STRUCTURE."
      ],
      "metadata": {
        "id": "AckjwZJcuJVk"
      }
    },
    {
      "cell_type": "markdown",
      "source": [
        "12. DESCRIBE A SCENARIO WHERE USING A TUPLE WOULD BE PREFERABLE OVER A LIST.\n",
        "\n",
        "ANS - IMAGINE WE NEED TO STORE EMPLOYEE IDS OF EMPLOYESS IN OUR PROGRAM TO BE USED REPEATEDLY IN IT. IT IS NECESSARY THAT THE EMPLOYEE IDS DONOT CHANGE ACCIDENTALLY. IN THIS CASE WE NEED TO IMPLEMENT TUPLE INSTEAD OF LIST."
      ],
      "metadata": {
        "id": "oZ7PIxG7u2Al"
      }
    },
    {
      "cell_type": "markdown",
      "source": [
        "13. HOW DO SETS HANDLE DUPLICATE VALUES IN PYTHON?\n",
        "\n",
        "ANS - A SET IS AN UNORDERED COLLECTION OF UNIQUE ELEMENTS, THIS MEANS SETS AUTOMATICALLY REMOVES THE DUPLICATE VALUES."
      ],
      "metadata": {
        "id": "k3COIY35wgMo"
      }
    },
    {
      "cell_type": "markdown",
      "source": [
        "14. HOW DOES THE \"IN\" KEYWORD WORK DIFFERENTLY FOR LISTS AND DICTIONARIES?\n",
        "\n",
        "ANS - THE \"IN\" KEYWORD IN PYTHON IS USED TO CHECK MEMEBERSHIP. WHEN USED WITH A LIST, THE \"IN\" KEYWORD CHECKS IF A VALUE EXISTS AS AN ELEMENT IN THE LIST.WHEN USED WITH A DICTIONARY, THE \"IN\" KEYWORD CHECKS FOR KEYS, NOT FOR VALUES."
      ],
      "metadata": {
        "id": "Ckh7oVbDxAh8"
      }
    },
    {
      "cell_type": "markdown",
      "source": [
        "15. CAN YOU MODIFY THE ELEMENTS OF A TUPLE? EXPLAIN WHY OR WHY NOT?\n",
        "\n",
        "ANS - NO, WE CANNOT MODIFY THE ELEMENTS OF A TUPLE IN PYTHON AS TUPLES ARE IMMUTABLE BY NATURE."
      ],
      "metadata": {
        "id": "nnp_0FSdyG5F"
      }
    },
    {
      "cell_type": "markdown",
      "source": [
        "16. WHAT IS A NESTED DICTIONARY, AND GIVE AN EXAMPLE OF ITS USE CASE?\n",
        "\n",
        "ANS - A NESTED DICTIONARY IN PYTHON IS A DICTIONARY THAT CONTAINS OTHER DICTIONARIES AS ITS VALUES.\n",
        "EXAMPLE- A SCENARIO WHERE WE HAVE TO STORE STUDENT MARKSHEET. HERE STUDENT NAME AS WELL AS SUBJECT NAMES WOULD BE KEY."
      ],
      "metadata": {
        "id": "uv9A4kuxyoPx"
      }
    },
    {
      "cell_type": "markdown",
      "source": [
        "17. DESCRIBE THE TIME COMPLEXITY OF ACCESSING ELEMENTS IN A DICTIONARY.\n",
        "\n",
        "ANS - THE TIME COMPLEXITY OF ACCESSING ELEMENTS IN A PYTHON  DICTIONARY IS GENERALLY 0(1) ON AVERAGE."
      ],
      "metadata": {
        "id": "pnlsJy0e0OpB"
      }
    },
    {
      "cell_type": "markdown",
      "source": [
        "18. IN WHAT SITUATIONS ARE LISTS PREFERRED OVER DICTIONARIES?\n",
        "\n",
        "ANS - LISTS ARE PREFERRED OVER DICTIONARIES,\n",
        "*WHERE THE ORDER OF ELEMENTS MATTERS,\n",
        "*WHEN WE NEED TO STORE DUPLICATES,\n",
        "*WE NEED TO ACCESS ELEMENTS BY INDEX,\n",
        "*WE NEED TO STORE ELEMENTS WITHOUT KEY-VALUE PAIR."
      ],
      "metadata": {
        "id": "Qs246Y0y4vtM"
      }
    },
    {
      "cell_type": "markdown",
      "source": [
        "19. WHY ARE DICTIONARIES CONSIDERED UNORDERED, AND HOW DOES THAT AFFECT DATA RETRIEVAL?\n",
        "\n",
        "ANS - DICTIONARIES ARE UNORDERED, MEANS IT DOESNOT GUARANTEE THAT THE ELEMENTS/KEY-VALUE PAIRS WOULD MAINTAIN THE ORDER IN WHICH THEY WERE INSERTED. IF WE TRY TO ITERATE OVER A DICTIONARY, THE ORDER OF ITEMS COULD BE DIFFERENT EACH TIME."
      ],
      "metadata": {
        "id": "eotW4-x66Hz_"
      }
    },
    {
      "cell_type": "markdown",
      "source": [
        "20. EXPLAIN THE DIFFERENCE BETWEEN A LIST AND A DICTIONARY IN TERMS OF DATA RETRIEVAL.\n",
        "\n",
        "ANS - TO RETRIEVE AN ITEM FROM A LIST, WE USE ITS INDEX. TO RETRIEVE AN ITEM FROM A DICTIONARY, WE USE KEY AND NOT THE INDEX."
      ],
      "metadata": {
        "id": "K5S0JCCI7xx2"
      }
    },
    {
      "cell_type": "markdown",
      "source": [],
      "metadata": {
        "id": "aFIfzC3o9KLm"
      }
    },
    {
      "cell_type": "markdown",
      "source": [],
      "metadata": {
        "id": "byVP1Ryo95cv"
      }
    },
    {
      "cell_type": "markdown",
      "source": [
        "**PRACTICAL QUESTIONS**"
      ],
      "metadata": {
        "id": "hAnGDard9VnB"
      }
    },
    {
      "cell_type": "markdown",
      "source": [
        "1. WRITE A CODE TO CREATE A STRING WITH YOUR NAME AND PRINT IT."
      ],
      "metadata": {
        "id": "valiO2nv9dhA"
      }
    },
    {
      "cell_type": "code",
      "source": [
        "a = \"SATYAPRAKASH PANDA\"\n",
        "print(a)"
      ],
      "metadata": {
        "colab": {
          "base_uri": "https://localhost:8080/"
        },
        "id": "a7RZCkQE92aX",
        "outputId": "8e86fd0f-555b-4f25-8905-4600aadf1be1"
      },
      "execution_count": 1,
      "outputs": [
        {
          "output_type": "stream",
          "name": "stdout",
          "text": [
            "SATYAPRAKASH PANDA\n"
          ]
        }
      ]
    },
    {
      "cell_type": "code",
      "source": [],
      "metadata": {
        "id": "oaCCpJwJ-INi"
      },
      "execution_count": null,
      "outputs": []
    },
    {
      "cell_type": "markdown",
      "source": [
        "2. WRITE A CODE TO FIND THE LENGTH OF THE STRING \"HELLO WORLD\"."
      ],
      "metadata": {
        "id": "VB82gZZ_-Op7"
      }
    },
    {
      "cell_type": "code",
      "source": [
        "a = \"hello world\"\n",
        "len(a)"
      ],
      "metadata": {
        "colab": {
          "base_uri": "https://localhost:8080/"
        },
        "id": "jn8qF4oq-bD9",
        "outputId": "15e58eb9-934b-42d5-a793-45cf108933ba"
      },
      "execution_count": 2,
      "outputs": [
        {
          "output_type": "execute_result",
          "data": {
            "text/plain": [
              "11"
            ]
          },
          "metadata": {},
          "execution_count": 2
        }
      ]
    },
    {
      "cell_type": "code",
      "source": [],
      "metadata": {
        "id": "roYx7hgP-xIh"
      },
      "execution_count": null,
      "outputs": []
    },
    {
      "cell_type": "markdown",
      "source": [
        "3. WRITE A CODE TO SLICE THE FIRST 3 CHARACTERS FROM THE STRING \"PYTHON PROGRAMMING\""
      ],
      "metadata": {
        "id": "cKRE7-2r-1UY"
      }
    },
    {
      "cell_type": "code",
      "source": [
        "a = \"python programming\"\n",
        "a[0:3]"
      ],
      "metadata": {
        "colab": {
          "base_uri": "https://localhost:8080/",
          "height": 35
        },
        "id": "4r9o2Jmb_GdX",
        "outputId": "73a7c640-a454-45c5-c5e3-a2844d988edf"
      },
      "execution_count": 4,
      "outputs": [
        {
          "output_type": "execute_result",
          "data": {
            "text/plain": [
              "'pyt'"
            ],
            "application/vnd.google.colaboratory.intrinsic+json": {
              "type": "string"
            }
          },
          "metadata": {},
          "execution_count": 4
        }
      ]
    },
    {
      "cell_type": "code",
      "source": [],
      "metadata": {
        "id": "wR8TQ9QR_5G5"
      },
      "execution_count": null,
      "outputs": []
    },
    {
      "cell_type": "markdown",
      "source": [
        "4. WRITE A CODE TO CONVERT THE STRING \"hello\" TO UPPERCASE."
      ],
      "metadata": {
        "id": "wboI9ih8_-5O"
      }
    },
    {
      "cell_type": "code",
      "source": [
        "a = \"hello\"\n",
        "a.upper()"
      ],
      "metadata": {
        "colab": {
          "base_uri": "https://localhost:8080/",
          "height": 35
        },
        "id": "uHLojHuRARbb",
        "outputId": "0358658a-efea-4cbb-cf0e-aa75f43f9529"
      },
      "execution_count": 6,
      "outputs": [
        {
          "output_type": "execute_result",
          "data": {
            "text/plain": [
              "'HELLO'"
            ],
            "application/vnd.google.colaboratory.intrinsic+json": {
              "type": "string"
            }
          },
          "metadata": {},
          "execution_count": 6
        }
      ]
    },
    {
      "cell_type": "code",
      "source": [],
      "metadata": {
        "id": "qZslaGC2AYaq"
      },
      "execution_count": null,
      "outputs": []
    },
    {
      "cell_type": "markdown",
      "source": [
        "5. WRITE A CODE TO REPLACE THE WORD \"APPLE\" WITH ORANGE IN THE STRING \"I LIKE APPLE\"."
      ],
      "metadata": {
        "id": "1TVNPFRCApTm"
      }
    },
    {
      "cell_type": "code",
      "source": [
        "a = \"i like apple\"\n",
        "a.replace(\"apple\", \"orange\")"
      ],
      "metadata": {
        "colab": {
          "base_uri": "https://localhost:8080/",
          "height": 35
        },
        "id": "sVEZCstLBSNf",
        "outputId": "4db0f9f0-748d-4810-961f-6fc00a9467d0"
      },
      "execution_count": 7,
      "outputs": [
        {
          "output_type": "execute_result",
          "data": {
            "text/plain": [
              "'i like orange'"
            ],
            "application/vnd.google.colaboratory.intrinsic+json": {
              "type": "string"
            }
          },
          "metadata": {},
          "execution_count": 7
        }
      ]
    },
    {
      "cell_type": "code",
      "source": [],
      "metadata": {
        "id": "ZdW-ADAbBk1x"
      },
      "execution_count": null,
      "outputs": []
    },
    {
      "cell_type": "markdown",
      "source": [
        "6. WRITE A CODE TO CREATE A LIST WITH NUMBERS 1 TO 5 AND PRINT IT."
      ],
      "metadata": {
        "id": "z4F_awHHBnb9"
      }
    },
    {
      "cell_type": "code",
      "source": [
        "a = [1, 2, 3, 4, 5]\n",
        "for i in a:\n",
        "  print(i)"
      ],
      "metadata": {
        "colab": {
          "base_uri": "https://localhost:8080/"
        },
        "id": "TZ3Y6iH4B0f3",
        "outputId": "e729d86c-42e0-406c-8488-11b869775cb3"
      },
      "execution_count": 8,
      "outputs": [
        {
          "output_type": "stream",
          "name": "stdout",
          "text": [
            "1\n",
            "2\n",
            "3\n",
            "4\n",
            "5\n"
          ]
        }
      ]
    },
    {
      "cell_type": "code",
      "source": [],
      "metadata": {
        "id": "Y2GagKR2CBwz"
      },
      "execution_count": null,
      "outputs": []
    },
    {
      "cell_type": "markdown",
      "source": [
        "7. WRITE A CODE TO APPEND THE NUMBER 10 TO THE LIST[1, 2, 3, 4]"
      ],
      "metadata": {
        "id": "Egb-si-dCGQR"
      }
    },
    {
      "cell_type": "code",
      "source": [
        "a = [1, 2, 3, 4]\n",
        "a.append(10)\n",
        "a"
      ],
      "metadata": {
        "colab": {
          "base_uri": "https://localhost:8080/"
        },
        "id": "XJgoumXJCTCo",
        "outputId": "01302aef-581a-428d-b2ec-274765d8e622"
      },
      "execution_count": 11,
      "outputs": [
        {
          "output_type": "execute_result",
          "data": {
            "text/plain": [
              "[1, 2, 3, 4, 10]"
            ]
          },
          "metadata": {},
          "execution_count": 11
        }
      ]
    },
    {
      "cell_type": "code",
      "source": [],
      "metadata": {
        "id": "bq-mpeKACdjw"
      },
      "execution_count": null,
      "outputs": []
    },
    {
      "cell_type": "markdown",
      "source": [
        "8. WRITE A CODE TO REMOVE THE NUMBER 3 FROM THE LIST [1, 2, 3, 4, 5]"
      ],
      "metadata": {
        "id": "P9QsF7kFCibr"
      }
    },
    {
      "cell_type": "code",
      "source": [
        "a = [1, 2, 3, 4, 5]\n",
        "a.remove(3)\n",
        "a"
      ],
      "metadata": {
        "colab": {
          "base_uri": "https://localhost:8080/"
        },
        "id": "PfBrxDTcCyHF",
        "outputId": "259ad7ed-ff00-4633-c9e7-474211c8eff3"
      },
      "execution_count": 12,
      "outputs": [
        {
          "output_type": "execute_result",
          "data": {
            "text/plain": [
              "[1, 2, 4, 5]"
            ]
          },
          "metadata": {},
          "execution_count": 12
        }
      ]
    },
    {
      "cell_type": "code",
      "source": [],
      "metadata": {
        "id": "bYbClTVLC6nN"
      },
      "execution_count": null,
      "outputs": []
    },
    {
      "cell_type": "markdown",
      "source": [
        "9. WRITE A CODE TO ACCESS THE SECOND ELEMENT IN THE LIST [\"a\", \"b\", \"c\", \"d\"]"
      ],
      "metadata": {
        "id": "W62XSBcmDCin"
      }
    },
    {
      "cell_type": "code",
      "source": [
        "a = [\"a\", \"b\", \"c\", \"d\"]\n",
        "a[1]"
      ],
      "metadata": {
        "colab": {
          "base_uri": "https://localhost:8080/",
          "height": 35
        },
        "id": "VFn_dGmhDW8S",
        "outputId": "beffecd8-65cd-4f96-9045-f722df5d1270"
      },
      "execution_count": 13,
      "outputs": [
        {
          "output_type": "execute_result",
          "data": {
            "text/plain": [
              "'b'"
            ],
            "application/vnd.google.colaboratory.intrinsic+json": {
              "type": "string"
            }
          },
          "metadata": {},
          "execution_count": 13
        }
      ]
    },
    {
      "cell_type": "code",
      "source": [],
      "metadata": {
        "id": "-ES3r2evDoTn"
      },
      "execution_count": null,
      "outputs": []
    },
    {
      "cell_type": "markdown",
      "source": [
        "10. WRITE A CODE TO REVERSE THE LIST[10, 20, 30, 40, 50]"
      ],
      "metadata": {
        "id": "kcjIgbpCDzZg"
      }
    },
    {
      "cell_type": "code",
      "source": [
        "a = [10, 20, 30, 40, 50]\n",
        "a[::-1]"
      ],
      "metadata": {
        "colab": {
          "base_uri": "https://localhost:8080/"
        },
        "id": "c5bLcGwLEDzu",
        "outputId": "339411dc-7829-4c44-fca2-79b0d5f18a4f"
      },
      "execution_count": 14,
      "outputs": [
        {
          "output_type": "execute_result",
          "data": {
            "text/plain": [
              "[50, 40, 30, 20, 10]"
            ]
          },
          "metadata": {},
          "execution_count": 14
        }
      ]
    },
    {
      "cell_type": "code",
      "source": [],
      "metadata": {
        "id": "0GSjG50rENXP"
      },
      "execution_count": null,
      "outputs": []
    },
    {
      "cell_type": "markdown",
      "source": [
        "11. WRITE A CODE TO CREATE A TUPLE WITH THE ELEMENTS 10, 20, 30 AND PRINT IT."
      ],
      "metadata": {
        "id": "NAeDz_QqEQR1"
      }
    },
    {
      "cell_type": "code",
      "source": [
        "a = (10, 20, 30)\n",
        "print(a)"
      ],
      "metadata": {
        "colab": {
          "base_uri": "https://localhost:8080/"
        },
        "id": "42jYHA4NEd7D",
        "outputId": "13f5075d-d6f1-4d5a-d610-c22e1cd67654"
      },
      "execution_count": 15,
      "outputs": [
        {
          "output_type": "stream",
          "name": "stdout",
          "text": [
            "(10, 20, 30)\n"
          ]
        }
      ]
    },
    {
      "cell_type": "code",
      "source": [],
      "metadata": {
        "id": "WWe-p9rMElSM"
      },
      "execution_count": null,
      "outputs": []
    },
    {
      "cell_type": "markdown",
      "source": [
        "12. WRITE A CODE TO ACCESS THE FIRST ELEMENT OF THE TUPLE (\"APPLE\", \"BANANA\", \"CHERRY\")"
      ],
      "metadata": {
        "id": "XkDDKxmSEp9E"
      }
    },
    {
      "cell_type": "code",
      "source": [
        "a = (\"apple\", \"banana\", \"cherry\")\n",
        "a[0]"
      ],
      "metadata": {
        "colab": {
          "base_uri": "https://localhost:8080/",
          "height": 35
        },
        "id": "qzRWPYpTE7zh",
        "outputId": "fe568d48-4f2c-485b-f107-4e253408416c"
      },
      "execution_count": 16,
      "outputs": [
        {
          "output_type": "execute_result",
          "data": {
            "text/plain": [
              "'apple'"
            ],
            "application/vnd.google.colaboratory.intrinsic+json": {
              "type": "string"
            }
          },
          "metadata": {},
          "execution_count": 16
        }
      ]
    },
    {
      "cell_type": "code",
      "source": [],
      "metadata": {
        "id": "YySLAfKTFPeo"
      },
      "execution_count": null,
      "outputs": []
    },
    {
      "cell_type": "markdown",
      "source": [
        "13. WRITE A CODE TO COUNT HOW MANY TIMES THE NUMBER 2 APPEARS IN THE TUPLE (1, 2, 3, 2, 4, 2)"
      ],
      "metadata": {
        "id": "gxbDYe_jFR9n"
      }
    },
    {
      "cell_type": "code",
      "source": [
        "a = (1, 2, 3, 2, 4, 2)\n",
        "b = 0\n",
        "for i in a:\n",
        "  if i == 2:\n",
        "    b = b + 1\n",
        "print(b)"
      ],
      "metadata": {
        "colab": {
          "base_uri": "https://localhost:8080/"
        },
        "id": "Wwpyz9pqFkxt",
        "outputId": "c3f35887-0a3b-4a59-e137-27af6cf53007"
      },
      "execution_count": 17,
      "outputs": [
        {
          "output_type": "stream",
          "name": "stdout",
          "text": [
            "3\n"
          ]
        }
      ]
    },
    {
      "cell_type": "code",
      "source": [],
      "metadata": {
        "id": "RXvpHoKxGLKx"
      },
      "execution_count": null,
      "outputs": []
    },
    {
      "cell_type": "markdown",
      "source": [
        "14. WRITE A CODE TO FIND THE INDEX OF THE ELEMENT \"CAT\" IN THE TUPLE (\"DOG\", \"CAT\", \"RABBIT\")"
      ],
      "metadata": {
        "id": "H-5pO4Q4GOH_"
      }
    },
    {
      "cell_type": "code",
      "source": [
        "a = (\"dog\", \"cat\", \"rabbit\")\n",
        "a.index(\"cat\")"
      ],
      "metadata": {
        "colab": {
          "base_uri": "https://localhost:8080/"
        },
        "id": "OkCRzw_fGgCx",
        "outputId": "4788035d-266f-438e-b86a-bcd2b0a4a707"
      },
      "execution_count": 18,
      "outputs": [
        {
          "output_type": "execute_result",
          "data": {
            "text/plain": [
              "1"
            ]
          },
          "metadata": {},
          "execution_count": 18
        }
      ]
    },
    {
      "cell_type": "code",
      "source": [],
      "metadata": {
        "id": "46PXR7weGyHH"
      },
      "execution_count": null,
      "outputs": []
    },
    {
      "cell_type": "markdown",
      "source": [
        "15. WRITE A CODE TO CHECK IF THE ELEMENT \"BANANA\" IS IN THE TUPLE(\"APPLE\", \"ORANGE\", \"BANANA\")"
      ],
      "metadata": {
        "id": "GlzwWZyrG0JK"
      }
    },
    {
      "cell_type": "code",
      "source": [
        "a = (\"apple\", \"orange\", \"banana\")\n",
        "if \"banana\" in a:\n",
        "  print(\"yes\")\n",
        "else:\n",
        "  print(\"no\")"
      ],
      "metadata": {
        "colab": {
          "base_uri": "https://localhost:8080/"
        },
        "id": "ylMOl-AAHZ5h",
        "outputId": "793e3368-3992-40fe-de02-1d29e4da5035"
      },
      "execution_count": 19,
      "outputs": [
        {
          "output_type": "stream",
          "name": "stdout",
          "text": [
            "yes\n"
          ]
        }
      ]
    },
    {
      "cell_type": "code",
      "source": [],
      "metadata": {
        "id": "BniCoVNYHxT6"
      },
      "execution_count": null,
      "outputs": []
    },
    {
      "cell_type": "markdown",
      "source": [
        "16. WRITE A CODE TO CREATE A SET WITH ELEMENTS 1,2,3,4,5 AND PRINT IT."
      ],
      "metadata": {
        "id": "XqINiDZ5HyxQ"
      }
    },
    {
      "cell_type": "code",
      "source": [
        "a = {1, 2, 3, 4, 5}\n",
        "print(a)"
      ],
      "metadata": {
        "colab": {
          "base_uri": "https://localhost:8080/"
        },
        "id": "mIZnVjeYILRy",
        "outputId": "5bf0b37d-f448-410c-8303-21280b1f962a"
      },
      "execution_count": 21,
      "outputs": [
        {
          "output_type": "stream",
          "name": "stdout",
          "text": [
            "{1, 2, 3, 4, 5}\n"
          ]
        }
      ]
    },
    {
      "cell_type": "code",
      "source": [],
      "metadata": {
        "id": "OYVa0UlSIVES"
      },
      "execution_count": null,
      "outputs": []
    },
    {
      "cell_type": "markdown",
      "source": [
        "17. WRITE A CODE TO ADD THE ELEMENT 6 TO THE SET{1, 2, 3, 4}"
      ],
      "metadata": {
        "id": "lqK6ryj-Ie_o"
      }
    },
    {
      "cell_type": "code",
      "source": [
        "a = {1, 2, 3, 4}\n",
        "a.add(6)\n",
        "a"
      ],
      "metadata": {
        "colab": {
          "base_uri": "https://localhost:8080/"
        },
        "id": "jmgsqbwtIyso",
        "outputId": "16b7fb32-16fe-4db7-d385-0efed986146e"
      },
      "execution_count": 23,
      "outputs": [
        {
          "output_type": "execute_result",
          "data": {
            "text/plain": [
              "{1, 2, 3, 4, 6}"
            ]
          },
          "metadata": {},
          "execution_count": 23
        }
      ]
    },
    {
      "cell_type": "code",
      "source": [],
      "metadata": {
        "id": "UWcdhVIbI6-Z"
      },
      "execution_count": null,
      "outputs": []
    },
    {
      "cell_type": "markdown",
      "source": [
        "18. WRITE A CODE TO CREATE A TUPLE WITH THE ELEMENTS 10. 20, 30 AND PRINT IT."
      ],
      "metadata": {
        "id": "or4Ng6JvI_HQ"
      }
    },
    {
      "cell_type": "code",
      "source": [
        "a = (10, 20, 30)\n",
        "print(a)"
      ],
      "metadata": {
        "colab": {
          "base_uri": "https://localhost:8080/"
        },
        "id": "GrCnE31SJNJD",
        "outputId": "2d563e0a-e9c4-4388-a094-368225d4d792"
      },
      "execution_count": 24,
      "outputs": [
        {
          "output_type": "stream",
          "name": "stdout",
          "text": [
            "(10, 20, 30)\n"
          ]
        }
      ]
    },
    {
      "cell_type": "code",
      "source": [],
      "metadata": {
        "id": "wduWRqRKJTXZ"
      },
      "execution_count": null,
      "outputs": []
    },
    {
      "cell_type": "markdown",
      "source": [
        "19. WRITE A CODE TO ACCESS THE FIRST ELEMENT OF THE TUPLE (\"APPLE\", \"BANANA\", \"CHERRY\")"
      ],
      "metadata": {
        "id": "JLBeK57fJtuw"
      }
    },
    {
      "cell_type": "code",
      "source": [
        "a = (\"apple\", \"banana\", \"cherry\")\n",
        "a[0]"
      ],
      "metadata": {
        "colab": {
          "base_uri": "https://localhost:8080/",
          "height": 35
        },
        "id": "evAhaFzBJyWk",
        "outputId": "d4ade23d-ee3d-40ed-ba3e-09bd2ef18198"
      },
      "execution_count": 25,
      "outputs": [
        {
          "output_type": "execute_result",
          "data": {
            "text/plain": [
              "'apple'"
            ],
            "application/vnd.google.colaboratory.intrinsic+json": {
              "type": "string"
            }
          },
          "metadata": {},
          "execution_count": 25
        }
      ]
    },
    {
      "cell_type": "code",
      "source": [],
      "metadata": {
        "id": "pDepmBNlJ4Tq"
      },
      "execution_count": null,
      "outputs": []
    },
    {
      "cell_type": "markdown",
      "source": [
        "20. WRITE A CODE TO COUNT HOW MANY TIMES THE NUMBER 2 APPEARS IN THE TUPLE (1, 2, 3, 2, 4, 2)"
      ],
      "metadata": {
        "id": "jqCi7wQ0J5zw"
      }
    },
    {
      "cell_type": "code",
      "source": [
        "a = (1, 2, 3, 2, 4, 2)\n",
        "b = 0\n",
        "for i in a:\n",
        "  if i == 2:\n",
        "    b = b + 1\n",
        "print(b)"
      ],
      "metadata": {
        "colab": {
          "base_uri": "https://localhost:8080/"
        },
        "id": "nAyQ11tKKB4I",
        "outputId": "2788810e-0f43-45e2-d62b-f6eb593ee13a"
      },
      "execution_count": 26,
      "outputs": [
        {
          "output_type": "stream",
          "name": "stdout",
          "text": [
            "3\n"
          ]
        }
      ]
    },
    {
      "cell_type": "code",
      "source": [],
      "metadata": {
        "id": "B0mv0tEYKJWx"
      },
      "execution_count": null,
      "outputs": []
    },
    {
      "cell_type": "markdown",
      "source": [
        "21. WRITE A CODE TO FIND THE INDEX OF THE ELEMENT \"CAT\" IN THE TUPLE (\"DOG\", \"CAT\", \"RABBIT\")"
      ],
      "metadata": {
        "id": "U5AlHsPBKLIz"
      }
    },
    {
      "cell_type": "code",
      "source": [
        "a = (\"dog\", \"cat\", \"rabbit\")\n",
        "a.index(\"cat\")"
      ],
      "metadata": {
        "colab": {
          "base_uri": "https://localhost:8080/"
        },
        "id": "79GKC1sIKWeJ",
        "outputId": "d13a55a6-7bde-465d-d955-58a486e3b9e8"
      },
      "execution_count": 27,
      "outputs": [
        {
          "output_type": "execute_result",
          "data": {
            "text/plain": [
              "1"
            ]
          },
          "metadata": {},
          "execution_count": 27
        }
      ]
    },
    {
      "cell_type": "code",
      "source": [],
      "metadata": {
        "id": "ce2yjFYiKcLh"
      },
      "execution_count": null,
      "outputs": []
    },
    {
      "cell_type": "markdown",
      "source": [
        "22. WRITE A CODE TO CHECK IF THE ELEMENT \"BANANA\" IS IN THE TUPLE(\"APPLE\", \"ORANGE\", \"BANANA\")"
      ],
      "metadata": {
        "id": "Ni69qsVEKdNU"
      }
    },
    {
      "cell_type": "code",
      "source": [
        "a = (\"apple\", \"orange\", \"banana\")\n",
        "if \"banana\" in a:\n",
        "  print(\"yes\")\n",
        "else:\n",
        "  print(\"no\")"
      ],
      "metadata": {
        "colab": {
          "base_uri": "https://localhost:8080/"
        },
        "id": "rlrMNIenKm3W",
        "outputId": "3c3954e7-a82a-4223-bfe2-079e925c2169"
      },
      "execution_count": 28,
      "outputs": [
        {
          "output_type": "stream",
          "name": "stdout",
          "text": [
            "yes\n"
          ]
        }
      ]
    },
    {
      "cell_type": "code",
      "source": [],
      "metadata": {
        "id": "XugIod8GKseS"
      },
      "execution_count": null,
      "outputs": []
    },
    {
      "cell_type": "markdown",
      "source": [
        "23. WRITE A CODE TO CREATE A SET WITH ELEMENTS 1,2,3,4,5 AND PRINT IT."
      ],
      "metadata": {
        "id": "-ka5lr6mKtzH"
      }
    },
    {
      "cell_type": "code",
      "source": [
        "a = {1, 2, 3, 4, 5}\n",
        "print(a)"
      ],
      "metadata": {
        "colab": {
          "base_uri": "https://localhost:8080/"
        },
        "id": "FMINJCFyK5xQ",
        "outputId": "1afb6c15-b8e3-4f6e-9506-029f4b490b0b"
      },
      "execution_count": 29,
      "outputs": [
        {
          "output_type": "stream",
          "name": "stdout",
          "text": [
            "{1, 2, 3, 4, 5}\n"
          ]
        }
      ]
    },
    {
      "cell_type": "code",
      "source": [],
      "metadata": {
        "id": "dmgKL8W3K9Go"
      },
      "execution_count": null,
      "outputs": []
    },
    {
      "cell_type": "markdown",
      "source": [
        "24. WRITE A CODE TO ADD THE ELEMENT 6 TO THE SET{1, 2, 3, 4}"
      ],
      "metadata": {
        "id": "5rsXlDF3K997"
      }
    },
    {
      "cell_type": "code",
      "source": [
        "a = {1, 2, 3, 4}\n",
        "a.add(6)\n",
        "a"
      ],
      "metadata": {
        "colab": {
          "base_uri": "https://localhost:8080/"
        },
        "id": "9dys3OTBLH0y",
        "outputId": "3d0429f8-4bf0-4818-8add-c3d6671a8ee9"
      },
      "execution_count": 30,
      "outputs": [
        {
          "output_type": "execute_result",
          "data": {
            "text/plain": [
              "{1, 2, 3, 4, 6}"
            ]
          },
          "metadata": {},
          "execution_count": 30
        }
      ]
    },
    {
      "cell_type": "code",
      "source": [],
      "metadata": {
        "id": "GOA4ds56LRBh"
      },
      "execution_count": null,
      "outputs": []
    }
  ]
}